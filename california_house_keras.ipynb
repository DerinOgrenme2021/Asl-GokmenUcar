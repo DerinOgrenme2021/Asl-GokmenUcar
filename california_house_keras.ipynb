{
  "nbformat": 4,
  "nbformat_minor": 0,
  "metadata": {
    "colab": {
      "name": "california_house_keras.ipynb",
      "provenance": [],
      "authorship_tag": "ABX9TyMcrST5DJ0i/P066KpjvBT5",
      "include_colab_link": true
    },
    "kernelspec": {
      "name": "python3",
      "display_name": "Python 3"
    },
    "language_info": {
      "name": "python"
    }
  },
  "cells": [
    {
      "cell_type": "markdown",
      "metadata": {
        "id": "view-in-github",
        "colab_type": "text"
      },
      "source": [
        "<a href=\"https://colab.research.google.com/github/DerinOgrenme2021/Asl-GokmenUcar/blob/main/california_house_keras.ipynb\" target=\"_parent\"><img src=\"https://colab.research.google.com/assets/colab-badge.svg\" alt=\"Open In Colab\"/></a>"
      ]
    },
    {
      "cell_type": "code",
      "metadata": {
        "id": "T0padqIepnAu"
      },
      "source": [
        "import pandas as pd\n",
        "import numpy as np\n",
        "import matplotlib.pyplot as plt\n",
        "import seaborn as sns\n",
        "%matplotlib inline"
      ],
      "execution_count": 16,
      "outputs": []
    },
    {
      "cell_type": "code",
      "metadata": {
        "id": "wvJFVy7eqXQH"
      },
      "source": [
        "#verileri yükleme\n",
        "data = pd.read_csv(\"https://download.mlcc.google.com/mledu-datasets/california_housing_train.csv\")"
      ],
      "execution_count": 2,
      "outputs": []
    },
    {
      "cell_type": "code",
      "metadata": {
        "colab": {
          "base_uri": "https://localhost:8080/",
          "height": 224
        },
        "id": "p1InwVWWqzpD",
        "outputId": "d6560022-6876-4ef5-db83-91477e83d9d0"
      },
      "source": [
        "#verileri keşfediyor\n",
        "data.head()\n"
      ],
      "execution_count": 3,
      "outputs": [
        {
          "output_type": "execute_result",
          "data": {
            "text/html": [
              "<div>\n",
              "<style scoped>\n",
              "    .dataframe tbody tr th:only-of-type {\n",
              "        vertical-align: middle;\n",
              "    }\n",
              "\n",
              "    .dataframe tbody tr th {\n",
              "        vertical-align: top;\n",
              "    }\n",
              "\n",
              "    .dataframe thead th {\n",
              "        text-align: right;\n",
              "    }\n",
              "</style>\n",
              "<table border=\"1\" class=\"dataframe\">\n",
              "  <thead>\n",
              "    <tr style=\"text-align: right;\">\n",
              "      <th></th>\n",
              "      <th>longitude</th>\n",
              "      <th>latitude</th>\n",
              "      <th>housing_median_age</th>\n",
              "      <th>total_rooms</th>\n",
              "      <th>total_bedrooms</th>\n",
              "      <th>population</th>\n",
              "      <th>households</th>\n",
              "      <th>median_income</th>\n",
              "      <th>median_house_value</th>\n",
              "    </tr>\n",
              "  </thead>\n",
              "  <tbody>\n",
              "    <tr>\n",
              "      <th>0</th>\n",
              "      <td>-114.31</td>\n",
              "      <td>34.19</td>\n",
              "      <td>15.0</td>\n",
              "      <td>5612.0</td>\n",
              "      <td>1283.0</td>\n",
              "      <td>1015.0</td>\n",
              "      <td>472.0</td>\n",
              "      <td>1.4936</td>\n",
              "      <td>66900.0</td>\n",
              "    </tr>\n",
              "    <tr>\n",
              "      <th>1</th>\n",
              "      <td>-114.47</td>\n",
              "      <td>34.40</td>\n",
              "      <td>19.0</td>\n",
              "      <td>7650.0</td>\n",
              "      <td>1901.0</td>\n",
              "      <td>1129.0</td>\n",
              "      <td>463.0</td>\n",
              "      <td>1.8200</td>\n",
              "      <td>80100.0</td>\n",
              "    </tr>\n",
              "    <tr>\n",
              "      <th>2</th>\n",
              "      <td>-114.56</td>\n",
              "      <td>33.69</td>\n",
              "      <td>17.0</td>\n",
              "      <td>720.0</td>\n",
              "      <td>174.0</td>\n",
              "      <td>333.0</td>\n",
              "      <td>117.0</td>\n",
              "      <td>1.6509</td>\n",
              "      <td>85700.0</td>\n",
              "    </tr>\n",
              "    <tr>\n",
              "      <th>3</th>\n",
              "      <td>-114.57</td>\n",
              "      <td>33.64</td>\n",
              "      <td>14.0</td>\n",
              "      <td>1501.0</td>\n",
              "      <td>337.0</td>\n",
              "      <td>515.0</td>\n",
              "      <td>226.0</td>\n",
              "      <td>3.1917</td>\n",
              "      <td>73400.0</td>\n",
              "    </tr>\n",
              "    <tr>\n",
              "      <th>4</th>\n",
              "      <td>-114.57</td>\n",
              "      <td>33.57</td>\n",
              "      <td>20.0</td>\n",
              "      <td>1454.0</td>\n",
              "      <td>326.0</td>\n",
              "      <td>624.0</td>\n",
              "      <td>262.0</td>\n",
              "      <td>1.9250</td>\n",
              "      <td>65500.0</td>\n",
              "    </tr>\n",
              "  </tbody>\n",
              "</table>\n",
              "</div>"
            ],
            "text/plain": [
              "   longitude  latitude  ...  median_income  median_house_value\n",
              "0    -114.31     34.19  ...         1.4936             66900.0\n",
              "1    -114.47     34.40  ...         1.8200             80100.0\n",
              "2    -114.56     33.69  ...         1.6509             85700.0\n",
              "3    -114.57     33.64  ...         3.1917             73400.0\n",
              "4    -114.57     33.57  ...         1.9250             65500.0\n",
              "\n",
              "[5 rows x 9 columns]"
            ]
          },
          "metadata": {
            "tags": []
          },
          "execution_count": 3
        }
      ]
    },
    {
      "cell_type": "code",
      "metadata": {
        "colab": {
          "base_uri": "https://localhost:8080/"
        },
        "id": "lx6XuS58rMf_",
        "outputId": "a4c1b02c-0a59-4a7c-d9f0-31a9ed3c8690"
      },
      "source": [
        "#dataframe hakkında bilgileri yazdırdı\n",
        "data.info()"
      ],
      "execution_count": 4,
      "outputs": [
        {
          "output_type": "stream",
          "text": [
            "<class 'pandas.core.frame.DataFrame'>\n",
            "RangeIndex: 17000 entries, 0 to 16999\n",
            "Data columns (total 9 columns):\n",
            " #   Column              Non-Null Count  Dtype  \n",
            "---  ------              --------------  -----  \n",
            " 0   longitude           17000 non-null  float64\n",
            " 1   latitude            17000 non-null  float64\n",
            " 2   housing_median_age  17000 non-null  float64\n",
            " 3   total_rooms         17000 non-null  float64\n",
            " 4   total_bedrooms      17000 non-null  float64\n",
            " 5   population          17000 non-null  float64\n",
            " 6   households          17000 non-null  float64\n",
            " 7   median_income       17000 non-null  float64\n",
            " 8   median_house_value  17000 non-null  float64\n",
            "dtypes: float64(9)\n",
            "memory usage: 1.2 MB\n"
          ],
          "name": "stdout"
        }
      ]
    },
    {
      "cell_type": "code",
      "metadata": {
        "colab": {
          "base_uri": "https://localhost:8080/",
          "height": 317
        },
        "id": "JEW9jdN3rlwl",
        "outputId": "501b2cd3-1dde-4946-a52e-2324b4abca38"
      },
      "source": [
        "data.describe()"
      ],
      "execution_count": 5,
      "outputs": [
        {
          "output_type": "execute_result",
          "data": {
            "text/html": [
              "<div>\n",
              "<style scoped>\n",
              "    .dataframe tbody tr th:only-of-type {\n",
              "        vertical-align: middle;\n",
              "    }\n",
              "\n",
              "    .dataframe tbody tr th {\n",
              "        vertical-align: top;\n",
              "    }\n",
              "\n",
              "    .dataframe thead th {\n",
              "        text-align: right;\n",
              "    }\n",
              "</style>\n",
              "<table border=\"1\" class=\"dataframe\">\n",
              "  <thead>\n",
              "    <tr style=\"text-align: right;\">\n",
              "      <th></th>\n",
              "      <th>longitude</th>\n",
              "      <th>latitude</th>\n",
              "      <th>housing_median_age</th>\n",
              "      <th>total_rooms</th>\n",
              "      <th>total_bedrooms</th>\n",
              "      <th>population</th>\n",
              "      <th>households</th>\n",
              "      <th>median_income</th>\n",
              "      <th>median_house_value</th>\n",
              "    </tr>\n",
              "  </thead>\n",
              "  <tbody>\n",
              "    <tr>\n",
              "      <th>count</th>\n",
              "      <td>17000.000000</td>\n",
              "      <td>17000.000000</td>\n",
              "      <td>17000.000000</td>\n",
              "      <td>17000.000000</td>\n",
              "      <td>17000.000000</td>\n",
              "      <td>17000.000000</td>\n",
              "      <td>17000.000000</td>\n",
              "      <td>17000.000000</td>\n",
              "      <td>17000.000000</td>\n",
              "    </tr>\n",
              "    <tr>\n",
              "      <th>mean</th>\n",
              "      <td>-119.562108</td>\n",
              "      <td>35.625225</td>\n",
              "      <td>28.589353</td>\n",
              "      <td>2643.664412</td>\n",
              "      <td>539.410824</td>\n",
              "      <td>1429.573941</td>\n",
              "      <td>501.221941</td>\n",
              "      <td>3.883578</td>\n",
              "      <td>207300.912353</td>\n",
              "    </tr>\n",
              "    <tr>\n",
              "      <th>std</th>\n",
              "      <td>2.005166</td>\n",
              "      <td>2.137340</td>\n",
              "      <td>12.586937</td>\n",
              "      <td>2179.947071</td>\n",
              "      <td>421.499452</td>\n",
              "      <td>1147.852959</td>\n",
              "      <td>384.520841</td>\n",
              "      <td>1.908157</td>\n",
              "      <td>115983.764387</td>\n",
              "    </tr>\n",
              "    <tr>\n",
              "      <th>min</th>\n",
              "      <td>-124.350000</td>\n",
              "      <td>32.540000</td>\n",
              "      <td>1.000000</td>\n",
              "      <td>2.000000</td>\n",
              "      <td>1.000000</td>\n",
              "      <td>3.000000</td>\n",
              "      <td>1.000000</td>\n",
              "      <td>0.499900</td>\n",
              "      <td>14999.000000</td>\n",
              "    </tr>\n",
              "    <tr>\n",
              "      <th>25%</th>\n",
              "      <td>-121.790000</td>\n",
              "      <td>33.930000</td>\n",
              "      <td>18.000000</td>\n",
              "      <td>1462.000000</td>\n",
              "      <td>297.000000</td>\n",
              "      <td>790.000000</td>\n",
              "      <td>282.000000</td>\n",
              "      <td>2.566375</td>\n",
              "      <td>119400.000000</td>\n",
              "    </tr>\n",
              "    <tr>\n",
              "      <th>50%</th>\n",
              "      <td>-118.490000</td>\n",
              "      <td>34.250000</td>\n",
              "      <td>29.000000</td>\n",
              "      <td>2127.000000</td>\n",
              "      <td>434.000000</td>\n",
              "      <td>1167.000000</td>\n",
              "      <td>409.000000</td>\n",
              "      <td>3.544600</td>\n",
              "      <td>180400.000000</td>\n",
              "    </tr>\n",
              "    <tr>\n",
              "      <th>75%</th>\n",
              "      <td>-118.000000</td>\n",
              "      <td>37.720000</td>\n",
              "      <td>37.000000</td>\n",
              "      <td>3151.250000</td>\n",
              "      <td>648.250000</td>\n",
              "      <td>1721.000000</td>\n",
              "      <td>605.250000</td>\n",
              "      <td>4.767000</td>\n",
              "      <td>265000.000000</td>\n",
              "    </tr>\n",
              "    <tr>\n",
              "      <th>max</th>\n",
              "      <td>-114.310000</td>\n",
              "      <td>41.950000</td>\n",
              "      <td>52.000000</td>\n",
              "      <td>37937.000000</td>\n",
              "      <td>6445.000000</td>\n",
              "      <td>35682.000000</td>\n",
              "      <td>6082.000000</td>\n",
              "      <td>15.000100</td>\n",
              "      <td>500001.000000</td>\n",
              "    </tr>\n",
              "  </tbody>\n",
              "</table>\n",
              "</div>"
            ],
            "text/plain": [
              "          longitude      latitude  ...  median_income  median_house_value\n",
              "count  17000.000000  17000.000000  ...   17000.000000        17000.000000\n",
              "mean    -119.562108     35.625225  ...       3.883578       207300.912353\n",
              "std        2.005166      2.137340  ...       1.908157       115983.764387\n",
              "min     -124.350000     32.540000  ...       0.499900        14999.000000\n",
              "25%     -121.790000     33.930000  ...       2.566375       119400.000000\n",
              "50%     -118.490000     34.250000  ...       3.544600       180400.000000\n",
              "75%     -118.000000     37.720000  ...       4.767000       265000.000000\n",
              "max     -114.310000     41.950000  ...      15.000100       500001.000000\n",
              "\n",
              "[8 rows x 9 columns]"
            ]
          },
          "metadata": {
            "tags": []
          },
          "execution_count": 5
        }
      ]
    },
    {
      "cell_type": "code",
      "metadata": {
        "colab": {
          "base_uri": "https://localhost:8080/",
          "height": 852
        },
        "id": "3uEa5fUdsRG2",
        "outputId": "74085de6-772c-415d-b839-619dd4b724e3"
      },
      "source": [
        "data.hist(bins=50, figsize=(20,15))"
      ],
      "execution_count": 7,
      "outputs": [
        {
          "output_type": "execute_result",
          "data": {
            "text/plain": [
              "array([[<matplotlib.axes._subplots.AxesSubplot object at 0x7ff758f06e50>,\n",
              "        <matplotlib.axes._subplots.AxesSubplot object at 0x7ff758e6a490>,\n",
              "        <matplotlib.axes._subplots.AxesSubplot object at 0x7ff758e9eb10>],\n",
              "       [<matplotlib.axes._subplots.AxesSubplot object at 0x7ff758de41d0>,\n",
              "        <matplotlib.axes._subplots.AxesSubplot object at 0x7ff758e19850>,\n",
              "        <matplotlib.axes._subplots.AxesSubplot object at 0x7ff758dceed0>],\n",
              "       [<matplotlib.axes._subplots.AxesSubplot object at 0x7ff758d8f610>,\n",
              "        <matplotlib.axes._subplots.AxesSubplot object at 0x7ff758d46bd0>,\n",
              "        <matplotlib.axes._subplots.AxesSubplot object at 0x7ff758d46c10>]],\n",
              "      dtype=object)"
            ]
          },
          "metadata": {
            "tags": []
          },
          "execution_count": 7
        },
        {
          "output_type": "display_data",
          "data": {
            "image/png": "[encoded data removed]",
            "text/plain": [
              "<Figure size 1440x1080 with 9 Axes>"
            ]
          },
          "metadata": {
            "tags": [],
            "needs_background": "light"
          }
        }
      ]
    },
    {
      "cell_type": "code",
      "metadata": {
        "id": "CwWj6MCxySdU"
      },
      "source": [
        "# median house value diğerlerinden çok farklı olarak 500000 civarında ani bir zirveye sahiptir. \n",
        "#Modeli eğitirken bu verilerin kaldırılması önerilir.\n",
        "data['income_cat'] = np.ceil(data['median_income']/1.5)\n",
        "data['income_cat'].where(data['income_cat']<5, 5, inplace=True)\n"
      ],
      "execution_count": 20,
      "outputs": []
    },
    {
      "cell_type": "code",
      "metadata": {
        "colab": {
          "base_uri": "https://localhost:8080/",
          "height": 333
        },
        "id": "c7wliOwO0XTe",
        "outputId": "e188d598-78d4-4562-9454-8da401149a6e"
      },
      "source": [
        "plt.hist(data.income_cat)"
      ],
      "execution_count": 21,
      "outputs": [
        {
          "output_type": "execute_result",
          "data": {
            "text/plain": [
              "(array([ 664.,    0., 5413.,    0.,    0., 5919.,    0., 3029.,    0.,\n",
              "        1975.]),\n",
              " array([1. , 1.4, 1.8, 2.2, 2.6, 3. , 3.4, 3.8, 4.2, 4.6, 5. ]),\n",
              " <a list of 10 Patch objects>)"
            ]
          },
          "metadata": {
            "tags": []
          },
          "execution_count": 21
        },
        {
          "output_type": "display_data",
          "data": {
            "image/png": "[encoded data removed]",
            "text/plain": [
              "<Figure size 432x288 with 1 Axes>"
            ]
          },
          "metadata": {
            "tags": [],
            "needs_background": "light"
          }
        }
      ]
    },
    {
      "cell_type": "code",
      "metadata": {
        "colab": {
          "base_uri": "https://localhost:8080/"
        },
        "id": "z2uPn6Re0enF",
        "outputId": "74b89b50-1fd3-4b6f-ebb1-9644d04e13c5"
      },
      "source": [
        "data.income_cat.value_counts()/len(data.income_cat)"
      ],
      "execution_count": 22,
      "outputs": [
        {
          "output_type": "execute_result",
          "data": {
            "text/plain": [
              "3.0    0.348176\n",
              "2.0    0.318412\n",
              "4.0    0.178176\n",
              "5.0    0.116176\n",
              "1.0    0.039059\n",
              "Name: income_cat, dtype: float64"
            ]
          },
          "metadata": {
            "tags": []
          },
          "execution_count": 22
        }
      ]
    },
    {
      "cell_type": "code",
      "metadata": {
        "id": "jytzy1Hj25Zd"
      },
      "source": [
        "# verileri yeni özelliğe göre train ve test setlerine ayırın\n",
        "#StratifiedShuffleSplit paketini yeni özellikle birlikte kullanma\n",
        "from sklearn.model_selection import train_test_split"
      ],
      "execution_count": 24,
      "outputs": []
    },
    {
      "cell_type": "code",
      "metadata": {
        "id": "1EJfBD683vl7"
      },
      "source": [
        "from sklearn.model_selection import train_test_split\n",
        "data4train,data4test = train_test_split(data, test_size=0.2, random_state=42)\n",
        "from sklearn.model_selection import StratifiedShuffleSplit\n",
        "split = StratifiedShuffleSplit(n_splits=1, test_size=0.2, random_state = 42)\n",
        "for train_index, test_index in split.split(data, data['income_cat']):\n",
        "    train_set = data.loc[train_index]\n",
        "    test_set  = data.loc[test_index] "
      ],
      "execution_count": 25,
      "outputs": []
    },
    {
      "cell_type": "code",
      "metadata": {
        "colab": {
          "base_uri": "https://localhost:8080/"
        },
        "id": "wGcbuoxR4FpY",
        "outputId": "32563919-c02b-49ce-ada0-0c86fe18df65"
      },
      "source": [
        "# yeni özelliği siliyoruz artık\n",
        "for set_ in (data, data4train, data4test, train_set, test_set):\n",
        "    set_.drop(\"income_cat\",axis=1,inplace=True)"
      ],
      "execution_count": 26,
      "outputs": [
        {
          "output_type": "stream",
          "text": [
            "/usr/local/lib/python3.7/dist-packages/pandas/core/frame.py:4174: SettingWithCopyWarning: \n",
            "A value is trying to be set on a copy of a slice from a DataFrame\n",
            "\n",
            "See the caveats in the documentation: https://pandas.pydata.org/pandas-docs/stable/user_guide/indexing.html#returning-a-view-versus-a-copy\n",
            "  errors=errors,\n"
          ],
          "name": "stderr"
        }
      ]
    },
    {
      "cell_type": "code",
      "metadata": {
        "colab": {
          "base_uri": "https://localhost:8080/"
        },
        "id": "EO4eUX-n4deq",
        "outputId": "7fc45c01-8832-46c8-f608-1c423e020c22"
      },
      "source": [
        "data4train.columns"
      ],
      "execution_count": 27,
      "outputs": [
        {
          "output_type": "execute_result",
          "data": {
            "text/plain": [
              "Index(['longitude', 'latitude', 'housing_median_age', 'total_rooms',\n",
              "       'total_bedrooms', 'population', 'households', 'median_income',\n",
              "       'median_house_value'],\n",
              "      dtype='object')"
            ]
          },
          "metadata": {
            "tags": []
          },
          "execution_count": 27
        }
      ]
    },
    {
      "cell_type": "code",
      "metadata": {
        "id": "bMjRFmV-4iPT"
      },
      "source": [
        "housing4train = train_set.copy()"
      ],
      "execution_count": 29,
      "outputs": []
    },
    {
      "cell_type": "code",
      "metadata": {
        "colab": {
          "base_uri": "https://localhost:8080/",
          "height": 224
        },
        "id": "6EOOJLgB4mGd",
        "outputId": "79113f49-f084-4d7f-85c2-446399ecad15"
      },
      "source": [
        "housing4train.head()"
      ],
      "execution_count": 30,
      "outputs": [
        {
          "output_type": "execute_result",
          "data": {
            "text/html": [
              "<div>\n",
              "<style scoped>\n",
              "    .dataframe tbody tr th:only-of-type {\n",
              "        vertical-align: middle;\n",
              "    }\n",
              "\n",
              "    .dataframe tbody tr th {\n",
              "        vertical-align: top;\n",
              "    }\n",
              "\n",
              "    .dataframe thead th {\n",
              "        text-align: right;\n",
              "    }\n",
              "</style>\n",
              "<table border=\"1\" class=\"dataframe\">\n",
              "  <thead>\n",
              "    <tr style=\"text-align: right;\">\n",
              "      <th></th>\n",
              "      <th>longitude</th>\n",
              "      <th>latitude</th>\n",
              "      <th>housing_median_age</th>\n",
              "      <th>total_rooms</th>\n",
              "      <th>total_bedrooms</th>\n",
              "      <th>population</th>\n",
              "      <th>households</th>\n",
              "      <th>median_income</th>\n",
              "      <th>median_house_value</th>\n",
              "    </tr>\n",
              "  </thead>\n",
              "  <tbody>\n",
              "    <tr>\n",
              "      <th>693</th>\n",
              "      <td>-117.05</td>\n",
              "      <td>33.11</td>\n",
              "      <td>18.0</td>\n",
              "      <td>4393.0</td>\n",
              "      <td>642.0</td>\n",
              "      <td>2095.0</td>\n",
              "      <td>677.0</td>\n",
              "      <td>5.4786</td>\n",
              "      <td>223500.0</td>\n",
              "    </tr>\n",
              "    <tr>\n",
              "      <th>13522</th>\n",
              "      <td>-121.96</td>\n",
              "      <td>37.28</td>\n",
              "      <td>28.0</td>\n",
              "      <td>5018.0</td>\n",
              "      <td>1066.0</td>\n",
              "      <td>2846.0</td>\n",
              "      <td>998.0</td>\n",
              "      <td>4.0174</td>\n",
              "      <td>273900.0</td>\n",
              "    </tr>\n",
              "    <tr>\n",
              "      <th>2530</th>\n",
              "      <td>-117.64</td>\n",
              "      <td>34.06</td>\n",
              "      <td>43.0</td>\n",
              "      <td>763.0</td>\n",
              "      <td>219.0</td>\n",
              "      <td>851.0</td>\n",
              "      <td>198.0</td>\n",
              "      <td>1.7292</td>\n",
              "      <td>79200.0</td>\n",
              "    </tr>\n",
              "    <tr>\n",
              "      <th>5689</th>\n",
              "      <td>-118.18</td>\n",
              "      <td>33.78</td>\n",
              "      <td>17.0</td>\n",
              "      <td>1419.0</td>\n",
              "      <td>436.0</td>\n",
              "      <td>1300.0</td>\n",
              "      <td>360.0</td>\n",
              "      <td>2.0769</td>\n",
              "      <td>100000.0</td>\n",
              "    </tr>\n",
              "    <tr>\n",
              "      <th>4607</th>\n",
              "      <td>-118.06</td>\n",
              "      <td>33.91</td>\n",
              "      <td>36.0</td>\n",
              "      <td>1360.0</td>\n",
              "      <td>271.0</td>\n",
              "      <td>909.0</td>\n",
              "      <td>275.0</td>\n",
              "      <td>4.6731</td>\n",
              "      <td>173300.0</td>\n",
              "    </tr>\n",
              "  </tbody>\n",
              "</table>\n",
              "</div>"
            ],
            "text/plain": [
              "       longitude  latitude  ...  median_income  median_house_value\n",
              "693      -117.05     33.11  ...         5.4786            223500.0\n",
              "13522    -121.96     37.28  ...         4.0174            273900.0\n",
              "2530     -117.64     34.06  ...         1.7292             79200.0\n",
              "5689     -118.18     33.78  ...         2.0769            100000.0\n",
              "4607     -118.06     33.91  ...         4.6731            173300.0\n",
              "\n",
              "[5 rows x 9 columns]"
            ]
          },
          "metadata": {
            "tags": []
          },
          "execution_count": 30
        }
      ]
    },
    {
      "cell_type": "code",
      "metadata": {
        "colab": {
          "base_uri": "https://localhost:8080/",
          "height": 436
        },
        "id": "jXiUt01p4rK2",
        "outputId": "b81e5a3b-edaf-4327-cf2c-22db2830ed25"
      },
      "source": [
        "housing4train.plot(kind='scatter', x='longitude', y='latitude', alpha=0.3,\n",
        "         s=housing4train['population']/100, label='population',   # set symbol size on population\n",
        "         c=housing4train['median_house_value'],                  #  set symbol color on house value    \n",
        "         cmap=plt.get_cmap('jet'),      \n",
        "         colorbar=True,\n",
        "         figsize=(10,7))\n",
        "plt.legend()"
      ],
      "execution_count": 31,
      "outputs": [
        {
          "output_type": "execute_result",
          "data": {
            "text/plain": [
              "<matplotlib.legend.Legend at 0x7ff755a33210>"
            ]
          },
          "metadata": {
            "tags": []
          },
          "execution_count": 31
        },
        {
          "output_type": "display_data",
          "data": {
            "image/png": "[encoded data removed]",
            "text/plain": [
              "<Figure size 720x504 with 2 Axes>"
            ]
          },
          "metadata": {
            "tags": [],
            "needs_background": "light"
          }
        }
      ]
    },
    {
      "cell_type": "code",
      "metadata": {
        "id": "159atJ8l4wkM"
      },
      "source": [
        "#Evin değerinin daha çok nüfus ve konuma bağlı olduğunu görüyoruz"
      ],
      "execution_count": null,
      "outputs": []
    },
    {
      "cell_type": "code",
      "metadata": {
        "id": "cToDup6w4__x"
      },
      "source": [
        "import folium\n",
        "\n",
        "from geopy.geocoders import Nominatim "
      ],
      "execution_count": 32,
      "outputs": []
    },
    {
      "cell_type": "code",
      "metadata": {
        "id": "tOXQ6FBz5Gyq"
      },
      "source": [
        "def get_latlon(address):\n",
        "    geolocator = Nominatim()\n",
        "    location   = geolocator.geocode(address)\n",
        "    latitude   = location.latitude\n",
        "    longitude  = location.longitude\n",
        "    return latitude, longitude"
      ],
      "execution_count": 33,
      "outputs": []
    },
    {
      "cell_type": "code",
      "metadata": {
        "colab": {
          "base_uri": "https://localhost:8080/",
          "height": 382
        },
        "id": "LLYKc0O15KoE",
        "outputId": "b72de1a4-7113-4e24-d832-668fe3ff48cd"
      },
      "source": [
        "#özellikler arasındaki ilişkiyi görmek için\n",
        "sns.heatmap(housing4train.corr(),annot=True)\n"
      ],
      "execution_count": 34,
      "outputs": [
        {
          "output_type": "execute_result",
          "data": {
            "text/plain": [
              "<matplotlib.axes._subplots.AxesSubplot at 0x7ff753921d50>"
            ]
          },
          "metadata": {
            "tags": []
          },
          "execution_count": 34
        },
        {
          "output_type": "display_data",
          "data": {
            "image/png": "[encoded data removed]",
            "text/plain": [
              "<Figure size 432x288 with 2 Axes>"
            ]
          },
          "metadata": {
            "tags": [],
            "needs_background": "light"
          }
        }
      ]
    },
    {
      "cell_type": "code",
      "metadata": {
        "colab": {
          "base_uri": "https://localhost:8080/"
        },
        "id": "aoBjD4QJ5cnh",
        "outputId": "632731ba-3bc7-4a2a-f61f-c5d94a586c6d"
      },
      "source": [
        "corr_matrix = housing4train.corr()\n",
        "corr_matrix['median_house_value'].sort_values(ascending=False)"
      ],
      "execution_count": 35,
      "outputs": [
        {
          "output_type": "execute_result",
          "data": {
            "text/plain": [
              "median_house_value    1.000000\n",
              "median_income         0.690264\n",
              "total_rooms           0.126292\n",
              "housing_median_age    0.109845\n",
              "households            0.057418\n",
              "total_bedrooms        0.041573\n",
              "population           -0.030684\n",
              "longitude            -0.044802\n",
              "latitude             -0.144512\n",
              "Name: median_house_value, dtype: float64"
            ]
          },
          "metadata": {
            "tags": []
          },
          "execution_count": 35
        }
      ]
    },
    {
      "cell_type": "code",
      "metadata": {
        "colab": {
          "base_uri": "https://localhost:8080/",
          "height": 348
        },
        "id": "fKohI2jZ5kRm",
        "outputId": "be9b9d2d-de9d-467e-dbd6-768110e3c005"
      },
      "source": [
        "corr_matrix"
      ],
      "execution_count": 36,
      "outputs": [
        {
          "output_type": "execute_result",
          "data": {
            "text/html": [
              "<div>\n",
              "<style scoped>\n",
              "    .dataframe tbody tr th:only-of-type {\n",
              "        vertical-align: middle;\n",
              "    }\n",
              "\n",
              "    .dataframe tbody tr th {\n",
              "        vertical-align: top;\n",
              "    }\n",
              "\n",
              "    .dataframe thead th {\n",
              "        text-align: right;\n",
              "    }\n",
              "</style>\n",
              "<table border=\"1\" class=\"dataframe\">\n",
              "  <thead>\n",
              "    <tr style=\"text-align: right;\">\n",
              "      <th></th>\n",
              "      <th>longitude</th>\n",
              "      <th>latitude</th>\n",
              "      <th>housing_median_age</th>\n",
              "      <th>total_rooms</th>\n",
              "      <th>total_bedrooms</th>\n",
              "      <th>population</th>\n",
              "      <th>households</th>\n",
              "      <th>median_income</th>\n",
              "      <th>median_house_value</th>\n",
              "    </tr>\n",
              "  </thead>\n",
              "  <tbody>\n",
              "    <tr>\n",
              "      <th>longitude</th>\n",
              "      <td>1.000000</td>\n",
              "      <td>-0.926306</td>\n",
              "      <td>-0.112277</td>\n",
              "      <td>0.053942</td>\n",
              "      <td>0.080040</td>\n",
              "      <td>0.109900</td>\n",
              "      <td>0.067425</td>\n",
              "      <td>-0.016611</td>\n",
              "      <td>-0.044802</td>\n",
              "    </tr>\n",
              "    <tr>\n",
              "      <th>latitude</th>\n",
              "      <td>-0.926306</td>\n",
              "      <td>1.000000</td>\n",
              "      <td>0.013914</td>\n",
              "      <td>-0.044170</td>\n",
              "      <td>-0.076183</td>\n",
              "      <td>-0.117926</td>\n",
              "      <td>-0.081393</td>\n",
              "      <td>-0.077570</td>\n",
              "      <td>-0.144512</td>\n",
              "    </tr>\n",
              "    <tr>\n",
              "      <th>housing_median_age</th>\n",
              "      <td>-0.112277</td>\n",
              "      <td>0.013914</td>\n",
              "      <td>1.000000</td>\n",
              "      <td>-0.367219</td>\n",
              "      <td>-0.327593</td>\n",
              "      <td>-0.302844</td>\n",
              "      <td>-0.309460</td>\n",
              "      <td>-0.112649</td>\n",
              "      <td>0.109845</td>\n",
              "    </tr>\n",
              "    <tr>\n",
              "      <th>total_rooms</th>\n",
              "      <td>0.053942</td>\n",
              "      <td>-0.044170</td>\n",
              "      <td>-0.367219</td>\n",
              "      <td>1.000000</td>\n",
              "      <td>0.927694</td>\n",
              "      <td>0.860759</td>\n",
              "      <td>0.917108</td>\n",
              "      <td>0.192185</td>\n",
              "      <td>0.126292</td>\n",
              "    </tr>\n",
              "    <tr>\n",
              "      <th>total_bedrooms</th>\n",
              "      <td>0.080040</td>\n",
              "      <td>-0.076183</td>\n",
              "      <td>-0.327593</td>\n",
              "      <td>0.927694</td>\n",
              "      <td>1.000000</td>\n",
              "      <td>0.883148</td>\n",
              "      <td>0.979935</td>\n",
              "      <td>-0.015644</td>\n",
              "      <td>0.041573</td>\n",
              "    </tr>\n",
              "    <tr>\n",
              "      <th>population</th>\n",
              "      <td>0.109900</td>\n",
              "      <td>-0.117926</td>\n",
              "      <td>-0.302844</td>\n",
              "      <td>0.860759</td>\n",
              "      <td>0.883148</td>\n",
              "      <td>1.000000</td>\n",
              "      <td>0.912834</td>\n",
              "      <td>-0.003404</td>\n",
              "      <td>-0.030684</td>\n",
              "    </tr>\n",
              "    <tr>\n",
              "      <th>households</th>\n",
              "      <td>0.067425</td>\n",
              "      <td>-0.081393</td>\n",
              "      <td>-0.309460</td>\n",
              "      <td>0.917108</td>\n",
              "      <td>0.979935</td>\n",
              "      <td>0.912834</td>\n",
              "      <td>1.000000</td>\n",
              "      <td>0.005404</td>\n",
              "      <td>0.057418</td>\n",
              "    </tr>\n",
              "    <tr>\n",
              "      <th>median_income</th>\n",
              "      <td>-0.016611</td>\n",
              "      <td>-0.077570</td>\n",
              "      <td>-0.112649</td>\n",
              "      <td>0.192185</td>\n",
              "      <td>-0.015644</td>\n",
              "      <td>-0.003404</td>\n",
              "      <td>0.005404</td>\n",
              "      <td>1.000000</td>\n",
              "      <td>0.690264</td>\n",
              "    </tr>\n",
              "    <tr>\n",
              "      <th>median_house_value</th>\n",
              "      <td>-0.044802</td>\n",
              "      <td>-0.144512</td>\n",
              "      <td>0.109845</td>\n",
              "      <td>0.126292</td>\n",
              "      <td>0.041573</td>\n",
              "      <td>-0.030684</td>\n",
              "      <td>0.057418</td>\n",
              "      <td>0.690264</td>\n",
              "      <td>1.000000</td>\n",
              "    </tr>\n",
              "  </tbody>\n",
              "</table>\n",
              "</div>"
            ],
            "text/plain": [
              "                    longitude  latitude  ...  median_income  median_house_value\n",
              "longitude            1.000000 -0.926306  ...      -0.016611           -0.044802\n",
              "latitude            -0.926306  1.000000  ...      -0.077570           -0.144512\n",
              "housing_median_age  -0.112277  0.013914  ...      -0.112649            0.109845\n",
              "total_rooms          0.053942 -0.044170  ...       0.192185            0.126292\n",
              "total_bedrooms       0.080040 -0.076183  ...      -0.015644            0.041573\n",
              "population           0.109900 -0.117926  ...      -0.003404           -0.030684\n",
              "households           0.067425 -0.081393  ...       0.005404            0.057418\n",
              "median_income       -0.016611 -0.077570  ...       1.000000            0.690264\n",
              "median_house_value  -0.044802 -0.144512  ...       0.690264            1.000000\n",
              "\n",
              "[9 rows x 9 columns]"
            ]
          },
          "metadata": {
            "tags": []
          },
          "execution_count": 36
        }
      ]
    },
    {
      "cell_type": "code",
      "metadata": {
        "colab": {
          "base_uri": "https://localhost:8080/",
          "height": 328
        },
        "id": "lJRYx0Dh5mDf",
        "outputId": "77b7e284-5cf2-41c8-b509-e537c942dc2c"
      },
      "source": [
        "df = corr_matrix.tail(1).T\n",
        "df"
      ],
      "execution_count": 37,
      "outputs": [
        {
          "output_type": "execute_result",
          "data": {
            "text/html": [
              "<div>\n",
              "<style scoped>\n",
              "    .dataframe tbody tr th:only-of-type {\n",
              "        vertical-align: middle;\n",
              "    }\n",
              "\n",
              "    .dataframe tbody tr th {\n",
              "        vertical-align: top;\n",
              "    }\n",
              "\n",
              "    .dataframe thead th {\n",
              "        text-align: right;\n",
              "    }\n",
              "</style>\n",
              "<table border=\"1\" class=\"dataframe\">\n",
              "  <thead>\n",
              "    <tr style=\"text-align: right;\">\n",
              "      <th></th>\n",
              "      <th>median_house_value</th>\n",
              "    </tr>\n",
              "  </thead>\n",
              "  <tbody>\n",
              "    <tr>\n",
              "      <th>longitude</th>\n",
              "      <td>-0.044802</td>\n",
              "    </tr>\n",
              "    <tr>\n",
              "      <th>latitude</th>\n",
              "      <td>-0.144512</td>\n",
              "    </tr>\n",
              "    <tr>\n",
              "      <th>housing_median_age</th>\n",
              "      <td>0.109845</td>\n",
              "    </tr>\n",
              "    <tr>\n",
              "      <th>total_rooms</th>\n",
              "      <td>0.126292</td>\n",
              "    </tr>\n",
              "    <tr>\n",
              "      <th>total_bedrooms</th>\n",
              "      <td>0.041573</td>\n",
              "    </tr>\n",
              "    <tr>\n",
              "      <th>population</th>\n",
              "      <td>-0.030684</td>\n",
              "    </tr>\n",
              "    <tr>\n",
              "      <th>households</th>\n",
              "      <td>0.057418</td>\n",
              "    </tr>\n",
              "    <tr>\n",
              "      <th>median_income</th>\n",
              "      <td>0.690264</td>\n",
              "    </tr>\n",
              "    <tr>\n",
              "      <th>median_house_value</th>\n",
              "      <td>1.000000</td>\n",
              "    </tr>\n",
              "  </tbody>\n",
              "</table>\n",
              "</div>"
            ],
            "text/plain": [
              "                    median_house_value\n",
              "longitude                    -0.044802\n",
              "latitude                     -0.144512\n",
              "housing_median_age            0.109845\n",
              "total_rooms                   0.126292\n",
              "total_bedrooms                0.041573\n",
              "population                   -0.030684\n",
              "households                    0.057418\n",
              "median_income                 0.690264\n",
              "median_house_value            1.000000"
            ]
          },
          "metadata": {
            "tags": []
          },
          "execution_count": 37
        }
      ]
    },
    {
      "cell_type": "code",
      "metadata": {
        "colab": {
          "base_uri": "https://localhost:8080/",
          "height": 328
        },
        "id": "qVa4meen5p1w",
        "outputId": "eb73a408-d128-4d48-ef08-121e5af11b4e"
      },
      "source": [
        "df.sort_values(by='median_house_value',inplace=True) \n",
        "df"
      ],
      "execution_count": 38,
      "outputs": [
        {
          "output_type": "execute_result",
          "data": {
            "text/html": [
              "<div>\n",
              "<style scoped>\n",
              "    .dataframe tbody tr th:only-of-type {\n",
              "        vertical-align: middle;\n",
              "    }\n",
              "\n",
              "    .dataframe tbody tr th {\n",
              "        vertical-align: top;\n",
              "    }\n",
              "\n",
              "    .dataframe thead th {\n",
              "        text-align: right;\n",
              "    }\n",
              "</style>\n",
              "<table border=\"1\" class=\"dataframe\">\n",
              "  <thead>\n",
              "    <tr style=\"text-align: right;\">\n",
              "      <th></th>\n",
              "      <th>median_house_value</th>\n",
              "    </tr>\n",
              "  </thead>\n",
              "  <tbody>\n",
              "    <tr>\n",
              "      <th>latitude</th>\n",
              "      <td>-0.144512</td>\n",
              "    </tr>\n",
              "    <tr>\n",
              "      <th>longitude</th>\n",
              "      <td>-0.044802</td>\n",
              "    </tr>\n",
              "    <tr>\n",
              "      <th>population</th>\n",
              "      <td>-0.030684</td>\n",
              "    </tr>\n",
              "    <tr>\n",
              "      <th>total_bedrooms</th>\n",
              "      <td>0.041573</td>\n",
              "    </tr>\n",
              "    <tr>\n",
              "      <th>households</th>\n",
              "      <td>0.057418</td>\n",
              "    </tr>\n",
              "    <tr>\n",
              "      <th>housing_median_age</th>\n",
              "      <td>0.109845</td>\n",
              "    </tr>\n",
              "    <tr>\n",
              "      <th>total_rooms</th>\n",
              "      <td>0.126292</td>\n",
              "    </tr>\n",
              "    <tr>\n",
              "      <th>median_income</th>\n",
              "      <td>0.690264</td>\n",
              "    </tr>\n",
              "    <tr>\n",
              "      <th>median_house_value</th>\n",
              "      <td>1.000000</td>\n",
              "    </tr>\n",
              "  </tbody>\n",
              "</table>\n",
              "</div>"
            ],
            "text/plain": [
              "                    median_house_value\n",
              "latitude                     -0.144512\n",
              "longitude                    -0.044802\n",
              "population                   -0.030684\n",
              "total_bedrooms                0.041573\n",
              "households                    0.057418\n",
              "housing_median_age            0.109845\n",
              "total_rooms                   0.126292\n",
              "median_income                 0.690264\n",
              "median_house_value            1.000000"
            ]
          },
          "metadata": {
            "tags": []
          },
          "execution_count": 38
        }
      ]
    },
    {
      "cell_type": "code",
      "metadata": {
        "colab": {
          "base_uri": "https://localhost:8080/"
        },
        "id": "O8IrbM2w5uDj",
        "outputId": "aab6cd4e-2289-4671-85cc-c170c3dd8bb2"
      },
      "source": [
        "features = list(df[abs(df['median_house_value'])>0.1].T.columns)\n",
        "features"
      ],
      "execution_count": 46,
      "outputs": [
        {
          "output_type": "execute_result",
          "data": {
            "text/plain": [
              "['latitude',\n",
              " 'housing_median_age',\n",
              " 'total_rooms',\n",
              " 'median_income',\n",
              " 'median_house_value']"
            ]
          },
          "metadata": {
            "tags": []
          },
          "execution_count": 46
        }
      ]
    },
    {
      "cell_type": "code",
      "metadata": {
        "id": "x7zxQ5T--9Lv"
      },
      "source": [
        "from pandas.plotting import scatter_matrix\n",
        "from plotly.graph_objs import Scatter,Layout\n",
        "import plotly\n",
        "import plotly.offline as py\n",
        "import plotly.graph_objs as go"
      ],
      "execution_count": 47,
      "outputs": []
    },
    {
      "cell_type": "code",
      "metadata": {
        "colab": {
          "base_uri": "https://localhost:8080/",
          "height": 17
        },
        "id": "mmNTeNz-_Nhd",
        "outputId": "b02969b5-3562-49f7-9689-ac10caaaec69"
      },
      "source": [
        "plotly.offline.init_notebook_mode(connected=True)"
      ],
      "execution_count": 48,
      "outputs": [
        {
          "output_type": "display_data",
          "data": {
            "text/html": [
              "        <script type=\"text/javascript\">\n",
              "        window.PlotlyConfig = {MathJaxConfig: 'local'};\n",
              "        if (window.MathJax) {MathJax.Hub.Config({SVG: {font: \"STIX-Web\"}});}\n",
              "        if (typeof require !== 'undefined') {\n",
              "        require.undef(\"plotly\");\n",
              "        requirejs.config({\n",
              "            paths: {\n",
              "                'plotly': ['https://cdn.plot.ly/plotly-latest.min']\n",
              "            }\n",
              "        });\n",
              "        require(['plotly'], function(Plotly) {\n",
              "            window._Plotly = Plotly;\n",
              "        });\n",
              "        }\n",
              "        </script>\n",
              "        "
            ]
          },
          "metadata": {
            "tags": []
          }
        }
      ]
    },
    {
      "cell_type": "code",
      "metadata": {
        "id": "VeS5rxEU_RxN"
      },
      "source": [
        "trace0 = go.Scatter(x=data['median_income'], y=data['median_house_value'], mode = 'markers', name = 'value vs income')"
      ],
      "execution_count": 49,
      "outputs": []
    },
    {
      "cell_type": "code",
      "metadata": {
        "id": "YdMR2d45_Wr4"
      },
      "source": [
        "#Toplam oda nüfus belirtilmemiş ise, belli bir bölgedeki  ev fiyatına ilişkili değildir.\n",
        "# Ev fiyatı için daha ilişkili değişken, bir evde yaşayan kişi sayısıdır. \n",
        "#Bu nedenle, population_per_household yeni bir öznitelik tanıtılabilir ."
      ],
      "execution_count": null,
      "outputs": []
    },
    {
      "cell_type": "code",
      "metadata": {
        "id": "2dAh348L_0ME"
      },
      "source": [
        "housing4train['population_per_household'] = housing4train['population']/housing4train['households']\n"
      ],
      "execution_count": 50,
      "outputs": []
    },
    {
      "cell_type": "code",
      "metadata": {
        "id": "QdEEBni0_4pR"
      },
      "source": [
        "housing4train['bedrooms_per_room'] = housing4train['total_bedrooms']/housing4train['total_rooms']\n",
        "housing4train['rooms_per_household'] = housing4train['total_rooms']/housing4train['households']"
      ],
      "execution_count": 51,
      "outputs": []
    },
    {
      "cell_type": "code",
      "metadata": {
        "id": "cEsa4y5xADka"
      },
      "source": [
        "corr_matrix = housing4train.corr() "
      ],
      "execution_count": 52,
      "outputs": []
    },
    {
      "cell_type": "code",
      "metadata": {
        "id": "3dmtpB17AEUz"
      },
      "source": [
        "df = pd.DataFrame(corr_matrix['median_house_value'])\n",
        "df.sort_values(by='median_house_value',inplace=True)"
      ],
      "execution_count": 53,
      "outputs": []
    },
    {
      "cell_type": "code",
      "metadata": {
        "colab": {
          "base_uri": "https://localhost:8080/",
          "height": 404
        },
        "id": "HrDxQpXtAK6I",
        "outputId": "0f0c0cc2-ae4b-4a3a-f6b1-b8e34d761db8"
      },
      "source": [
        "df.drop(index='median_house_value',inplace=True)\n",
        "df.plot(kind='bar')"
      ],
      "execution_count": 54,
      "outputs": [
        {
          "output_type": "execute_result",
          "data": {
            "text/plain": [
              "<matplotlib.axes._subplots.AxesSubplot at 0x7ff70a924ed0>"
            ]
          },
          "metadata": {
            "tags": []
          },
          "execution_count": 54
        },
        {
          "output_type": "display_data",
          "data": {
            "image/png": "[encoded data removed]",
            "text/plain": [
              "<Figure size 432x288 with 1 Axes>"
            ]
          },
          "metadata": {
            "tags": [],
            "needs_background": "light"
          }
        }
      ]
    },
    {
      "cell_type": "code",
      "metadata": {
        "colab": {
          "base_uri": "https://localhost:8080/"
        },
        "id": "Vy3x7ig0AQZ8",
        "outputId": "980a6042-baf3-4f37-9ad4-f6a7904f8c85"
      },
      "source": [
        "features = list(df[abs(df['median_house_value'])>0.15].T.columns)\n",
        "features"
      ],
      "execution_count": 55,
      "outputs": [
        {
          "output_type": "execute_result",
          "data": {
            "text/plain": [
              "['bedrooms_per_room', 'population_per_household', 'median_income']"
            ]
          },
          "metadata": {
            "tags": []
          },
          "execution_count": 55
        }
      ]
    },
    {
      "cell_type": "code",
      "metadata": {
        "id": "xzcdSEWYAU8c"
      },
      "source": [
        "X_train = data4train.drop(\"median_house_value\",axis=1)\n",
        "y_train = data4train[\"median_house_value\"].copy()"
      ],
      "execution_count": 56,
      "outputs": []
    },
    {
      "cell_type": "code",
      "metadata": {
        "colab": {
          "base_uri": "https://localhost:8080/"
        },
        "id": "LnmhpQJlAfkM",
        "outputId": "1fd83c91-4163-4d6a-cd1d-fbc9b9eb3032"
      },
      "source": [
        "X_train.shape,y_train.shape"
      ],
      "execution_count": 59,
      "outputs": [
        {
          "output_type": "execute_result",
          "data": {
            "text/plain": [
              "((13600, 8), (13600,))"
            ]
          },
          "metadata": {
            "tags": []
          },
          "execution_count": 59
        }
      ]
    },
    {
      "cell_type": "code",
      "metadata": {
        "id": "IFLsEgN6AgYx"
      },
      "source": [
        "X_test = data4test.drop(\"median_house_value\",axis=1)\n",
        "y_test = data4test[\"median_house_value\"].copy()"
      ],
      "execution_count": 58,
      "outputs": []
    },
    {
      "cell_type": "code",
      "metadata": {
        "id": "nz0wSMC7AqB4"
      },
      "source": [
        "from sklearn.preprocessing import MinMaxScaler\n",
        "scaler = MinMaxScaler()\n",
        "X_train= scaler.fit_transform(X_train)\n",
        "X_test = scaler.transform(X_test)"
      ],
      "execution_count": 60,
      "outputs": []
    },
    {
      "cell_type": "code",
      "metadata": {
        "id": "d0BZ4DBCA37c"
      },
      "source": [
        "from tensorflow.keras.models import Sequential\n",
        "from tensorflow.keras.layers import Dense\n",
        "from tensorflow.keras.optimizers import Adam\n",
        "from tensorflow.keras.layers import Dropout\n",
        "model = Sequential()\n",
        "model.add(Dense(8,activation='relu'))\n",
        "model.add(Dropout(0.5))\n",
        "model.add(Dense(3,activation='relu'))\n",
        "model.add(Dropout(0.5))\n",
        "model.add(Dense(1))\n",
        "\n",
        "#Modeli derliyoruz\n",
        "model.compile(optimizer='adam', loss='mse')"
      ],
      "execution_count": 61,
      "outputs": []
    },
    {
      "cell_type": "code",
      "metadata": {
        "colab": {
          "base_uri": "https://localhost:8080/"
        },
        "id": "-JVf4leTA__Q",
        "outputId": "a3e4bfe7-e07e-4b23-b5ba-dac1c87e9275"
      },
      "source": [
        "#Modeli eğitiyoruz\n",
        "from tensorflow.keras.callbacks import EarlyStopping\n",
        "early_stop = EarlyStopping(monitor='val_loss', mode='min', verbose=1, patience=10)\n",
        "model.fit(x=X_train,y=y_train.values,\n",
        "          validation_data=(X_test,y_test.values),\n",
        "          batch_size=128,epochs=100, callbacks=[early_stop])"
      ],
      "execution_count": 62,
      "outputs": [
        {
          "output_type": "stream",
          "text": [
            "Epoch 1/100\n",
            "107/107 [==============================] - 1s 3ms/step - loss: 56095907840.0000 - val_loss: 57741463552.0000\n",
            "Epoch 2/100\n",
            "107/107 [==============================] - 0s 2ms/step - loss: 56095514624.0000 - val_loss: 57740783616.0000\n",
            "Epoch 3/100\n",
            "107/107 [==============================] - 0s 2ms/step - loss: 56094380032.0000 - val_loss: 57739177984.0000\n",
            "Epoch 4/100\n",
            "107/107 [==============================] - 0s 2ms/step - loss: 56092209152.0000 - val_loss: 57736302592.0000\n",
            "Epoch 5/100\n",
            "107/107 [==============================] - 0s 2ms/step - loss: 56088690688.0000 - val_loss: 57731862528.0000\n",
            "Epoch 6/100\n",
            "107/107 [==============================] - 0s 2ms/step - loss: 56083660800.0000 - val_loss: 57725677568.0000\n",
            "Epoch 7/100\n",
            "107/107 [==============================] - 0s 2ms/step - loss: 56076521472.0000 - val_loss: 57717002240.0000\n",
            "Epoch 8/100\n",
            "107/107 [==============================] - 0s 2ms/step - loss: 56065433600.0000 - val_loss: 57704800256.0000\n",
            "Epoch 9/100\n",
            "107/107 [==============================] - 0s 2ms/step - loss: 56053108736.0000 - val_loss: 57689927680.0000\n",
            "Epoch 10/100\n",
            "107/107 [==============================] - 0s 2ms/step - loss: 56035467264.0000 - val_loss: 57671712768.0000\n",
            "Epoch 11/100\n",
            "107/107 [==============================] - 0s 2ms/step - loss: 56019767296.0000 - val_loss: 57650958336.0000\n",
            "Epoch 12/100\n",
            "107/107 [==============================] - 0s 2ms/step - loss: 55996268544.0000 - val_loss: 57626345472.0000\n",
            "Epoch 13/100\n",
            "107/107 [==============================] - 0s 2ms/step - loss: 55969177600.0000 - val_loss: 57598062592.0000\n",
            "Epoch 14/100\n",
            "107/107 [==============================] - 0s 2ms/step - loss: 55939715072.0000 - val_loss: 57566097408.0000\n",
            "Epoch 15/100\n",
            "107/107 [==============================] - 0s 2ms/step - loss: 55906127872.0000 - val_loss: 57530068992.0000\n",
            "Epoch 16/100\n",
            "107/107 [==============================] - 0s 2ms/step - loss: 55864999936.0000 - val_loss: 57489907712.0000\n",
            "Epoch 17/100\n",
            "107/107 [==============================] - 0s 2ms/step - loss: 55833370624.0000 - val_loss: 57446940672.0000\n",
            "Epoch 18/100\n",
            "107/107 [==============================] - 0s 2ms/step - loss: 55781441536.0000 - val_loss: 57399148544.0000\n",
            "Epoch 19/100\n",
            "107/107 [==============================] - 0s 2ms/step - loss: 55732715520.0000 - val_loss: 57347072000.0000\n",
            "Epoch 20/100\n",
            "107/107 [==============================] - 0s 2ms/step - loss: 55675682816.0000 - val_loss: 57290629120.0000\n",
            "Epoch 21/100\n",
            "107/107 [==============================] - 0s 2ms/step - loss: 55630163968.0000 - val_loss: 57230942208.0000\n",
            "Epoch 22/100\n",
            "107/107 [==============================] - 0s 2ms/step - loss: 55556579328.0000 - val_loss: 57166090240.0000\n",
            "Epoch 23/100\n",
            "107/107 [==============================] - 0s 2ms/step - loss: 55489888256.0000 - val_loss: 57096683520.0000\n",
            "Epoch 24/100\n",
            "107/107 [==============================] - 0s 2ms/step - loss: 55438282752.0000 - val_loss: 57024729088.0000\n",
            "Epoch 25/100\n",
            "107/107 [==============================] - 0s 2ms/step - loss: 55374725120.0000 - val_loss: 56949346304.0000\n",
            "Epoch 26/100\n",
            "107/107 [==============================] - 0s 2ms/step - loss: 55274078208.0000 - val_loss: 56867053568.0000\n",
            "Epoch 27/100\n",
            "107/107 [==============================] - 0s 2ms/step - loss: 55194972160.0000 - val_loss: 56780664832.0000\n",
            "Epoch 28/100\n",
            "107/107 [==============================] - 0s 2ms/step - loss: 55114985472.0000 - val_loss: 56690331648.0000\n",
            "Epoch 29/100\n",
            "107/107 [==============================] - 0s 2ms/step - loss: 55032832000.0000 - val_loss: 56596008960.0000\n",
            "Epoch 30/100\n",
            "107/107 [==============================] - 0s 2ms/step - loss: 54920765440.0000 - val_loss: 56495800320.0000\n",
            "Epoch 31/100\n",
            "107/107 [==============================] - 0s 2ms/step - loss: 54826373120.0000 - val_loss: 56390582272.0000\n",
            "Epoch 32/100\n",
            "107/107 [==============================] - 0s 2ms/step - loss: 54743339008.0000 - val_loss: 56283197440.0000\n",
            "Epoch 33/100\n",
            "107/107 [==============================] - 0s 2ms/step - loss: 54618771456.0000 - val_loss: 56169754624.0000\n",
            "Epoch 34/100\n",
            "107/107 [==============================] - 0s 2ms/step - loss: 54479269888.0000 - val_loss: 56050589696.0000\n",
            "Epoch 35/100\n",
            "107/107 [==============================] - 0s 2ms/step - loss: 54388985856.0000 - val_loss: 55927644160.0000\n",
            "Epoch 36/100\n",
            "107/107 [==============================] - 0s 2ms/step - loss: 54238306304.0000 - val_loss: 55798697984.0000\n",
            "Epoch 37/100\n",
            "107/107 [==============================] - 0s 2ms/step - loss: 54122328064.0000 - val_loss: 55665889280.0000\n",
            "Epoch 38/100\n",
            "107/107 [==============================] - 0s 2ms/step - loss: 54034587648.0000 - val_loss: 55530786816.0000\n",
            "Epoch 39/100\n",
            "107/107 [==============================] - 0s 2ms/step - loss: 53868273664.0000 - val_loss: 55388405760.0000\n",
            "Epoch 40/100\n",
            "107/107 [==============================] - 0s 2ms/step - loss: 53774168064.0000 - val_loss: 55244967936.0000\n",
            "Epoch 41/100\n",
            "107/107 [==============================] - 0s 2ms/step - loss: 53573226496.0000 - val_loss: 55092346880.0000\n",
            "Epoch 42/100\n",
            "107/107 [==============================] - 0s 2ms/step - loss: 53495689216.0000 - val_loss: 54939402240.0000\n",
            "Epoch 43/100\n",
            "107/107 [==============================] - 0s 2ms/step - loss: 53272834048.0000 - val_loss: 54777966592.0000\n",
            "Epoch 44/100\n",
            "107/107 [==============================] - 0s 2ms/step - loss: 53194399744.0000 - val_loss: 54614958080.0000\n",
            "Epoch 45/100\n",
            "107/107 [==============================] - 0s 2ms/step - loss: 52951658496.0000 - val_loss: 54444105728.0000\n",
            "Epoch 46/100\n",
            "107/107 [==============================] - 0s 2ms/step - loss: 52857679872.0000 - val_loss: 54271569920.0000\n",
            "Epoch 47/100\n",
            "107/107 [==============================] - 0s 2ms/step - loss: 52691369984.0000 - val_loss: 54093746176.0000\n",
            "Epoch 48/100\n",
            "107/107 [==============================] - 0s 2ms/step - loss: 52548149248.0000 - val_loss: 53910855680.0000\n",
            "Epoch 49/100\n",
            "107/107 [==============================] - 0s 2ms/step - loss: 52428460032.0000 - val_loss: 53728772096.0000\n",
            "Epoch 50/100\n",
            "107/107 [==============================] - 0s 2ms/step - loss: 52197687296.0000 - val_loss: 53537787904.0000\n",
            "Epoch 51/100\n",
            "107/107 [==============================] - 0s 2ms/step - loss: 51906600960.0000 - val_loss: 53336682496.0000\n",
            "Epoch 52/100\n",
            "107/107 [==============================] - 0s 2ms/step - loss: 51829231616.0000 - val_loss: 53135634432.0000\n",
            "Epoch 53/100\n",
            "107/107 [==============================] - 0s 2ms/step - loss: 51625422848.0000 - val_loss: 52928937984.0000\n",
            "Epoch 54/100\n",
            "107/107 [==============================] - 0s 2ms/step - loss: 51453288448.0000 - val_loss: 52719976448.0000\n",
            "Epoch 55/100\n",
            "107/107 [==============================] - 0s 2ms/step - loss: 51215892480.0000 - val_loss: 52503908352.0000\n",
            "Epoch 56/100\n",
            "107/107 [==============================] - 0s 2ms/step - loss: 51100946432.0000 - val_loss: 52287320064.0000\n",
            "Epoch 57/100\n",
            "107/107 [==============================] - 0s 2ms/step - loss: 50805321728.0000 - val_loss: 52060499968.0000\n",
            "Epoch 58/100\n",
            "107/107 [==============================] - 0s 2ms/step - loss: 50702327808.0000 - val_loss: 51835346944.0000\n",
            "Epoch 59/100\n",
            "107/107 [==============================] - 0s 2ms/step - loss: 50517659648.0000 - val_loss: 51605553152.0000\n",
            "Epoch 60/100\n",
            "107/107 [==============================] - 0s 2ms/step - loss: 50355912704.0000 - val_loss: 51373060096.0000\n",
            "Epoch 61/100\n",
            "107/107 [==============================] - 0s 2ms/step - loss: 50127314944.0000 - val_loss: 51134967808.0000\n",
            "Epoch 62/100\n",
            "107/107 [==============================] - 0s 2ms/step - loss: 49859833856.0000 - val_loss: 50889220096.0000\n",
            "Epoch 63/100\n",
            "107/107 [==============================] - 0s 2ms/step - loss: 49621106688.0000 - val_loss: 50639429632.0000\n",
            "Epoch 64/100\n",
            "107/107 [==============================] - 0s 2ms/step - loss: 49359671296.0000 - val_loss: 50385215488.0000\n",
            "Epoch 65/100\n",
            "107/107 [==============================] - 0s 2ms/step - loss: 49226625024.0000 - val_loss: 50128416768.0000\n",
            "Epoch 66/100\n",
            "107/107 [==============================] - 0s 2ms/step - loss: 48887169024.0000 - val_loss: 49862873088.0000\n",
            "Epoch 67/100\n",
            "107/107 [==============================] - 0s 2ms/step - loss: 48687591424.0000 - val_loss: 49596026880.0000\n",
            "Epoch 68/100\n",
            "107/107 [==============================] - 0s 2ms/step - loss: 48442372096.0000 - val_loss: 49323790336.0000\n",
            "Epoch 69/100\n",
            "107/107 [==============================] - 0s 2ms/step - loss: 48393740288.0000 - val_loss: 49054064640.0000\n",
            "Epoch 70/100\n",
            "107/107 [==============================] - 0s 2ms/step - loss: 48054865920.0000 - val_loss: 48777965568.0000\n",
            "Epoch 71/100\n",
            "107/107 [==============================] - 0s 2ms/step - loss: 47731257344.0000 - val_loss: 48494485504.0000\n",
            "Epoch 72/100\n",
            "107/107 [==============================] - 0s 2ms/step - loss: 47541575680.0000 - val_loss: 48207323136.0000\n",
            "Epoch 73/100\n",
            "107/107 [==============================] - 0s 2ms/step - loss: 47269453824.0000 - val_loss: 47917490176.0000\n",
            "Epoch 74/100\n",
            "107/107 [==============================] - 0s 2ms/step - loss: 46986862592.0000 - val_loss: 47622438912.0000\n",
            "Epoch 75/100\n",
            "107/107 [==============================] - 0s 2ms/step - loss: 46850920448.0000 - val_loss: 47328231424.0000\n",
            "Epoch 76/100\n",
            "107/107 [==============================] - 0s 2ms/step - loss: 46449201152.0000 - val_loss: 47024549888.0000\n",
            "Epoch 77/100\n",
            "107/107 [==============================] - 0s 2ms/step - loss: 46315139072.0000 - val_loss: 46723694592.0000\n",
            "Epoch 78/100\n",
            "107/107 [==============================] - 0s 2ms/step - loss: 46189178880.0000 - val_loss: 46418939904.0000\n",
            "Epoch 79/100\n",
            "107/107 [==============================] - 0s 2ms/step - loss: 45815652352.0000 - val_loss: 46107426816.0000\n",
            "Epoch 80/100\n",
            "107/107 [==============================] - 0s 2ms/step - loss: 45817688064.0000 - val_loss: 45802065920.0000\n",
            "Epoch 81/100\n",
            "107/107 [==============================] - 0s 2ms/step - loss: 45444071424.0000 - val_loss: 45489303552.0000\n",
            "Epoch 82/100\n",
            "107/107 [==============================] - 0s 2ms/step - loss: 45251235840.0000 - val_loss: 45176098816.0000\n",
            "Epoch 83/100\n",
            "107/107 [==============================] - 0s 2ms/step - loss: 45158531072.0000 - val_loss: 44862398464.0000\n",
            "Epoch 84/100\n",
            "107/107 [==============================] - 0s 2ms/step - loss: 44806946816.0000 - val_loss: 44543598592.0000\n",
            "Epoch 85/100\n",
            "107/107 [==============================] - 0s 2ms/step - loss: 44489207808.0000 - val_loss: 44220977152.0000\n",
            "Epoch 86/100\n",
            "107/107 [==============================] - 0s 2ms/step - loss: 44344029184.0000 - val_loss: 43894771712.0000\n",
            "Epoch 87/100\n",
            "107/107 [==============================] - 0s 2ms/step - loss: 44242653184.0000 - val_loss: 43568984064.0000\n",
            "Epoch 88/100\n",
            "107/107 [==============================] - 0s 2ms/step - loss: 43808075776.0000 - val_loss: 43242483712.0000\n",
            "Epoch 89/100\n",
            "107/107 [==============================] - 0s 2ms/step - loss: 43521110016.0000 - val_loss: 42907279360.0000\n",
            "Epoch 90/100\n",
            "107/107 [==============================] - 0s 2ms/step - loss: 43261988864.0000 - val_loss: 42572492800.0000\n",
            "Epoch 91/100\n",
            "107/107 [==============================] - 0s 2ms/step - loss: 43009654784.0000 - val_loss: 42235576320.0000\n",
            "Epoch 92/100\n",
            "107/107 [==============================] - 0s 2ms/step - loss: 42688290816.0000 - val_loss: 41893634048.0000\n",
            "Epoch 93/100\n",
            "107/107 [==============================] - 0s 2ms/step - loss: 42645368832.0000 - val_loss: 41555283968.0000\n",
            "Epoch 94/100\n",
            "107/107 [==============================] - 0s 2ms/step - loss: 42547118080.0000 - val_loss: 41220157440.0000\n",
            "Epoch 95/100\n",
            "107/107 [==============================] - 0s 2ms/step - loss: 42260115456.0000 - val_loss: 40887226368.0000\n",
            "Epoch 96/100\n",
            "107/107 [==============================] - 0s 2ms/step - loss: 42066239488.0000 - val_loss: 40546430976.0000\n",
            "Epoch 97/100\n",
            "107/107 [==============================] - 0s 2ms/step - loss: 41705197568.0000 - val_loss: 40204562432.0000\n",
            "Epoch 98/100\n",
            "107/107 [==============================] - 0s 2ms/step - loss: 41416310784.0000 - val_loss: 39858024448.0000\n",
            "Epoch 99/100\n",
            "107/107 [==============================] - 0s 2ms/step - loss: 41796198400.0000 - val_loss: 39526412288.0000\n",
            "Epoch 100/100\n",
            "107/107 [==============================] - 0s 2ms/step - loss: 40980111360.0000 - val_loss: 39183245312.0000\n"
          ],
          "name": "stdout"
        },
        {
          "output_type": "execute_result",
          "data": {
            "text/plain": [
              "<tensorflow.python.keras.callbacks.History at 0x7ff70a7c0250>"
            ]
          },
          "metadata": {
            "tags": []
          },
          "execution_count": 62
        }
      ]
    },
    {
      "cell_type": "code",
      "metadata": {
        "id": "pa_2D4WcBSPm"
      },
      "source": [
        ""
      ],
      "execution_count": null,
      "outputs": []
    }
  ]
}